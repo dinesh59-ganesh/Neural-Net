{
 "cells": [
  {
   "cell_type": "code",
   "execution_count": 8,
   "id": "ba1bcba8",
   "metadata": {},
   "outputs": [
    {
     "name": "stdout",
     "output_type": "stream",
     "text": [
      "Random starting synaptic weights : \n",
      "[[-0.16595599]\n",
      " [ 0.44064899]\n",
      " [-0.99977125]]\n",
      "Synaptic weights after training : \n",
      "[[ 6.09856189e+00]\n",
      " [-2.23756792e-03]\n",
      " [-6.09857040e+00]]\n",
      "Outputs after training : \n",
      "[[0.00224609]\n",
      " [0.99775643]\n",
      " [0.99999149]\n",
      " [0.00224107]]\n"
     ]
    }
   ],
   "source": [
    "import numpy as np\n",
    "\n",
    "def sigmoid(x):\n",
    "    return 1/(1*np.exp(-x))\n",
    "\n",
    "def sigmoid_derivative(x):\n",
    "    return x * (1 - x)\n",
    "\n",
    "train_input = np.array([[0,0,1],[1,1,1],[1,0,1],[0,1,1]])\n",
    "\n",
    "train_output = np.array([[0,1,1,0]]).T\n",
    "\n",
    "np.random.seed(1)\n",
    "\n",
    "synaptic_weights = 2 * np.random.random((3, 1)) - 1\n",
    "\n",
    "print('Random starting synaptic weights : ')\n",
    "print(synaptic_weights)\n",
    "\n",
    "for iteration in range(100000):\n",
    "    input_layer = train_input\n",
    "    outputs = sigmoid(np.dot(input_layer, synaptic_weights))\n",
    "    error = train_output - outputs\n",
    "    adjustments = error * sigmoid_derivative(outputs)\n",
    "    synaptic_weights += np.dot(input_layer.T, adjustments)\n",
    "\n",
    "print('Synaptic weights after training : ')\n",
    "print(synaptic_weights)\n",
    "    \n",
    "print('Outputs after training : ')\n",
    "print(outputs)"
   ]
  },
  {
   "cell_type": "code",
   "execution_count": null,
   "id": "ed059b9f",
   "metadata": {},
   "outputs": [],
   "source": []
  }
 ],
 "metadata": {
  "kernelspec": {
   "display_name": "Python 3 (ipykernel)",
   "language": "python",
   "name": "python3"
  },
  "language_info": {
   "codemirror_mode": {
    "name": "ipython",
    "version": 3
   },
   "file_extension": ".py",
   "mimetype": "text/x-python",
   "name": "python",
   "nbconvert_exporter": "python",
   "pygments_lexer": "ipython3",
   "version": "3.9.13"
  }
 },
 "nbformat": 4,
 "nbformat_minor": 5
}
